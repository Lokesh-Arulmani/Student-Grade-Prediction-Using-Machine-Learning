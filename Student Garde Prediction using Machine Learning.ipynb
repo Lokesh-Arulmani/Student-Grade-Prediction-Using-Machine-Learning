{
 "cells": [
  {
   "cell_type": "code",
   "execution_count": 1,
   "id": "c5eb2f32",
   "metadata": {},
   "outputs": [],
   "source": [
    "#Loading the required libraries\n",
    "import pandas as pd\n",
    "import numpy as np"
   ]
  },
  {
   "cell_type": "code",
   "execution_count": 2,
   "id": "e5844fc0",
   "metadata": {},
   "outputs": [],
   "source": [
    "#Choosing the dataset\n",
    "data=pd.read_csv(\"C:/Users/ASUS/Downloads/student-mat.csv\")"
   ]
  },
  {
   "cell_type": "code",
   "execution_count": 3,
   "id": "0940a29f",
   "metadata": {},
   "outputs": [
    {
     "data": {
      "text/html": [
       "<div>\n",
       "<style scoped>\n",
       "    .dataframe tbody tr th:only-of-type {\n",
       "        vertical-align: middle;\n",
       "    }\n",
       "\n",
       "    .dataframe tbody tr th {\n",
       "        vertical-align: top;\n",
       "    }\n",
       "\n",
       "    .dataframe thead th {\n",
       "        text-align: right;\n",
       "    }\n",
       "</style>\n",
       "<table border=\"1\" class=\"dataframe\">\n",
       "  <thead>\n",
       "    <tr style=\"text-align: right;\">\n",
       "      <th></th>\n",
       "      <th>school</th>\n",
       "      <th>sex</th>\n",
       "      <th>age</th>\n",
       "      <th>address</th>\n",
       "      <th>famsize</th>\n",
       "      <th>Pstatus</th>\n",
       "      <th>Medu</th>\n",
       "      <th>Fedu</th>\n",
       "      <th>Mjob</th>\n",
       "      <th>Fjob</th>\n",
       "      <th>...</th>\n",
       "      <th>famrel</th>\n",
       "      <th>freetime</th>\n",
       "      <th>goout</th>\n",
       "      <th>Dalc</th>\n",
       "      <th>Walc</th>\n",
       "      <th>health</th>\n",
       "      <th>absences</th>\n",
       "      <th>G1</th>\n",
       "      <th>G2</th>\n",
       "      <th>G3</th>\n",
       "    </tr>\n",
       "  </thead>\n",
       "  <tbody>\n",
       "    <tr>\n",
       "      <th>0</th>\n",
       "      <td>GP</td>\n",
       "      <td>F</td>\n",
       "      <td>18</td>\n",
       "      <td>U</td>\n",
       "      <td>GT3</td>\n",
       "      <td>A</td>\n",
       "      <td>4</td>\n",
       "      <td>4</td>\n",
       "      <td>at_home</td>\n",
       "      <td>teacher</td>\n",
       "      <td>...</td>\n",
       "      <td>4</td>\n",
       "      <td>3</td>\n",
       "      <td>4</td>\n",
       "      <td>1</td>\n",
       "      <td>1</td>\n",
       "      <td>3</td>\n",
       "      <td>6</td>\n",
       "      <td>5</td>\n",
       "      <td>6</td>\n",
       "      <td>6</td>\n",
       "    </tr>\n",
       "    <tr>\n",
       "      <th>1</th>\n",
       "      <td>GP</td>\n",
       "      <td>F</td>\n",
       "      <td>17</td>\n",
       "      <td>U</td>\n",
       "      <td>GT3</td>\n",
       "      <td>T</td>\n",
       "      <td>1</td>\n",
       "      <td>1</td>\n",
       "      <td>at_home</td>\n",
       "      <td>other</td>\n",
       "      <td>...</td>\n",
       "      <td>5</td>\n",
       "      <td>3</td>\n",
       "      <td>3</td>\n",
       "      <td>1</td>\n",
       "      <td>1</td>\n",
       "      <td>3</td>\n",
       "      <td>4</td>\n",
       "      <td>5</td>\n",
       "      <td>5</td>\n",
       "      <td>6</td>\n",
       "    </tr>\n",
       "    <tr>\n",
       "      <th>2</th>\n",
       "      <td>GP</td>\n",
       "      <td>F</td>\n",
       "      <td>15</td>\n",
       "      <td>U</td>\n",
       "      <td>LE3</td>\n",
       "      <td>T</td>\n",
       "      <td>1</td>\n",
       "      <td>1</td>\n",
       "      <td>at_home</td>\n",
       "      <td>other</td>\n",
       "      <td>...</td>\n",
       "      <td>4</td>\n",
       "      <td>3</td>\n",
       "      <td>2</td>\n",
       "      <td>2</td>\n",
       "      <td>3</td>\n",
       "      <td>3</td>\n",
       "      <td>10</td>\n",
       "      <td>7</td>\n",
       "      <td>8</td>\n",
       "      <td>10</td>\n",
       "    </tr>\n",
       "    <tr>\n",
       "      <th>3</th>\n",
       "      <td>GP</td>\n",
       "      <td>F</td>\n",
       "      <td>15</td>\n",
       "      <td>U</td>\n",
       "      <td>GT3</td>\n",
       "      <td>T</td>\n",
       "      <td>4</td>\n",
       "      <td>2</td>\n",
       "      <td>health</td>\n",
       "      <td>services</td>\n",
       "      <td>...</td>\n",
       "      <td>3</td>\n",
       "      <td>2</td>\n",
       "      <td>2</td>\n",
       "      <td>1</td>\n",
       "      <td>1</td>\n",
       "      <td>5</td>\n",
       "      <td>2</td>\n",
       "      <td>15</td>\n",
       "      <td>14</td>\n",
       "      <td>15</td>\n",
       "    </tr>\n",
       "    <tr>\n",
       "      <th>4</th>\n",
       "      <td>GP</td>\n",
       "      <td>F</td>\n",
       "      <td>16</td>\n",
       "      <td>U</td>\n",
       "      <td>GT3</td>\n",
       "      <td>T</td>\n",
       "      <td>3</td>\n",
       "      <td>3</td>\n",
       "      <td>other</td>\n",
       "      <td>other</td>\n",
       "      <td>...</td>\n",
       "      <td>4</td>\n",
       "      <td>3</td>\n",
       "      <td>2</td>\n",
       "      <td>1</td>\n",
       "      <td>2</td>\n",
       "      <td>5</td>\n",
       "      <td>4</td>\n",
       "      <td>6</td>\n",
       "      <td>10</td>\n",
       "      <td>10</td>\n",
       "    </tr>\n",
       "  </tbody>\n",
       "</table>\n",
       "<p>5 rows × 33 columns</p>\n",
       "</div>"
      ],
      "text/plain": [
       "  school sex  age address famsize Pstatus  Medu  Fedu     Mjob      Fjob  ...  \\\n",
       "0     GP   F   18       U     GT3       A     4     4  at_home   teacher  ...   \n",
       "1     GP   F   17       U     GT3       T     1     1  at_home     other  ...   \n",
       "2     GP   F   15       U     LE3       T     1     1  at_home     other  ...   \n",
       "3     GP   F   15       U     GT3       T     4     2   health  services  ...   \n",
       "4     GP   F   16       U     GT3       T     3     3    other     other  ...   \n",
       "\n",
       "  famrel freetime  goout  Dalc  Walc health absences  G1  G2  G3  \n",
       "0      4        3      4     1     1      3        6   5   6   6  \n",
       "1      5        3      3     1     1      3        4   5   5   6  \n",
       "2      4        3      2     2     3      3       10   7   8  10  \n",
       "3      3        2      2     1     1      5        2  15  14  15  \n",
       "4      4        3      2     1     2      5        4   6  10  10  \n",
       "\n",
       "[5 rows x 33 columns]"
      ]
     },
     "execution_count": 3,
     "metadata": {},
     "output_type": "execute_result"
    }
   ],
   "source": [
    "#Viewing first 5 rows of dataset\n",
    "data.head()"
   ]
  },
  {
   "cell_type": "code",
   "execution_count": 4,
   "id": "afc1f28c",
   "metadata": {},
   "outputs": [
    {
     "data": {
      "text/plain": [
       "count    395.000000\n",
       "mean      10.415190\n",
       "std        4.581443\n",
       "min        0.000000\n",
       "25%        8.000000\n",
       "50%       11.000000\n",
       "75%       14.000000\n",
       "max       20.000000\n",
       "Name: G3, dtype: float64"
      ]
     },
     "execution_count": 4,
     "metadata": {},
     "output_type": "execute_result"
    }
   ],
   "source": [
    "#Getting final grade of the students\n",
    "data['G3'].describe()"
   ]
  },
  {
   "cell_type": "code",
   "execution_count": 5,
   "id": "243e5075",
   "metadata": {},
   "outputs": [
    {
     "data": {
      "image/png": "[encoded data removed]",
      "text/plain": [
       "<Figure size 640x480 with 1 Axes>"
      ]
     },
     "metadata": {},
     "output_type": "display_data"
    }
   ],
   "source": [
    "#Understanding Final grade with the help of barplot\n",
    "import seaborn as sns\n",
    "import matplotlib.pyplot as plt\n",
    "count_data = data['G3'].value_counts().reset_index()\n",
    "count_data.columns = ['G3', 'Count']\n",
    "sns.barplot(x='G3', y='Count', data=count_data)\n",
    "plt.xlabel('Final Grade')\n",
    "plt.ylabel('Count')\n",
    "plt.title('Bar Plot of Final Grade')\n",
    "plt.show()\n"
   ]
  },
  {
   "cell_type": "code",
   "execution_count": 6,
   "id": "5c716c11",
   "metadata": {},
   "outputs": [
    {
     "data": {
      "image/png": "[encoded data removed]",
      "text/plain": [
       "<Figure size 640x480 with 1 Axes>"
      ]
     },
     "metadata": {},
     "output_type": "display_data"
    }
   ],
   "source": [
    "#Understanding Final grade with the help of histogram\n",
    "import matplotlib.pyplot as plt\n",
    "plt.hist(data['G3'], bins=10)\n",
    "plt.xlabel('Final Grade')\n",
    "plt.ylabel('Count')\n",
    "plt.title('Histogram of Final Grade')\n",
    "plt.show()\n"
   ]
  },
  {
   "cell_type": "code",
   "execution_count": 7,
   "id": "be8eed06",
   "metadata": {},
   "outputs": [
    {
     "data": {
      "text/plain": [
       "Index(['school', 'sex', 'age', 'address', 'famsize', 'Pstatus', 'Medu', 'Fedu',\n",
       "       'Mjob', 'Fjob', 'reason', 'guardian', 'traveltime', 'studytime',\n",
       "       'failures', 'schoolsup', 'famsup', 'paid', 'activities', 'nursery',\n",
       "       'higher', 'internet', 'romantic', 'famrel', 'freetime', 'goout', 'Dalc',\n",
       "       'Walc', 'health', 'absences', 'G1', 'G2', 'G3'],\n",
       "      dtype='object')"
      ]
     },
     "execution_count": 7,
     "metadata": {},
     "output_type": "execute_result"
    }
   ],
   "source": [
    "#Viewing the columns we have\n",
    "data.columns"
   ]
  },
  {
   "cell_type": "code",
   "execution_count": 8,
   "id": "abe0bc88",
   "metadata": {},
   "outputs": [
    {
     "data": {
      "text/plain": [
       "(395, 33)"
      ]
     },
     "execution_count": 8,
     "metadata": {},
     "output_type": "execute_result"
    }
   ],
   "source": [
    "#Analysing the no of rows and columns in the dataset\n",
    "data.shape"
   ]
  },
  {
   "cell_type": "code",
   "execution_count": 9,
   "id": "887d6116",
   "metadata": {},
   "outputs": [
    {
     "data": {
      "text/plain": [
       "school        False\n",
       "sex           False\n",
       "age           False\n",
       "address       False\n",
       "famsize       False\n",
       "Pstatus       False\n",
       "Medu          False\n",
       "Fedu          False\n",
       "Mjob          False\n",
       "Fjob          False\n",
       "reason        False\n",
       "guardian      False\n",
       "traveltime    False\n",
       "studytime     False\n",
       "failures      False\n",
       "schoolsup     False\n",
       "famsup        False\n",
       "paid          False\n",
       "activities    False\n",
       "nursery       False\n",
       "higher        False\n",
       "internet      False\n",
       "romantic      False\n",
       "famrel        False\n",
       "freetime      False\n",
       "goout         False\n",
       "Dalc          False\n",
       "Walc          False\n",
       "health        False\n",
       "absences      False\n",
       "G1            False\n",
       "G2            False\n",
       "G3            False\n",
       "dtype: bool"
      ]
     },
     "execution_count": 9,
     "metadata": {},
     "output_type": "execute_result"
    }
   ],
   "source": [
    "#Checking whether any nulls values are present in the dataset\n",
    "data.isnull().any()"
   ]
  },
  {
   "cell_type": "code",
   "execution_count": 10,
   "id": "4308a6ff",
   "metadata": {},
   "outputs": [
    {
     "data": {
      "text/plain": [
       "school        0\n",
       "sex           0\n",
       "age           0\n",
       "address       0\n",
       "famsize       0\n",
       "Pstatus       0\n",
       "Medu          0\n",
       "Fedu          0\n",
       "Mjob          0\n",
       "Fjob          0\n",
       "reason        0\n",
       "guardian      0\n",
       "traveltime    0\n",
       "studytime     0\n",
       "failures      0\n",
       "schoolsup     0\n",
       "famsup        0\n",
       "paid          0\n",
       "activities    0\n",
       "nursery       0\n",
       "higher        0\n",
       "internet      0\n",
       "romantic      0\n",
       "famrel        0\n",
       "freetime      0\n",
       "goout         0\n",
       "Dalc          0\n",
       "Walc          0\n",
       "health        0\n",
       "absences      0\n",
       "G1            0\n",
       "G2            0\n",
       "G3            0\n",
       "dtype: int64"
      ]
     },
     "execution_count": 10,
     "metadata": {},
     "output_type": "execute_result"
    }
   ],
   "source": [
    "#Finding sum of null values in the dataset\n",
    "data.isnull().sum()"
   ]
  },
  {
   "cell_type": "code",
   "execution_count": 11,
   "id": "c43bc27d",
   "metadata": {},
   "outputs": [
    {
     "name": "stdout",
     "output_type": "stream",
     "text": [
      "No of male students 187\n",
      "No of female students 208\n"
     ]
    }
   ],
   "source": [
    "#Analyzing no of male and female students\n",
    "male_students=len(data[data['sex']=='M'])\n",
    "female_students=len(data[data['sex']=='F'])\n",
    "print(\"No of male students\",male_students)\n",
    "print(\"No of female students\",female_students)"
   ]
  },
  {
   "cell_type": "code",
   "execution_count": 12,
   "id": "004aeee5",
   "metadata": {},
   "outputs": [
    {
     "data": {
      "image/png": "[encoded data removed]",
      "text/plain": [
       "<Figure size 640x480 with 1 Axes>"
      ]
     },
     "metadata": {},
     "output_type": "display_data"
    }
   ],
   "source": [
    "#Viewing students in different age groups with the help of barplot\n",
    "b = sns.countplot(x='age', hue='sex', data=data)\n",
    "b.set_title('Number of Students in Different Age Groups', fontsize=30)\n",
    "b.set_xlabel('Age', fontsize=20)\n",
    "b.set_ylabel('Count', fontsize=20)\n",
    "plt.show()\n"
   ]
  },
  {
   "cell_type": "code",
   "execution_count": 13,
   "id": "a8d30cd0",
   "metadata": {},
   "outputs": [
    {
     "data": {
      "image/png": "[encoded data removed]",
      "text/plain": [
       "<Figure size 640x480 with 1 Axes>"
      ]
     },
     "metadata": {},
     "output_type": "display_data"
    }
   ],
   "source": [
    "#Analyzing the students from urban areas and rural areas\n",
    "data['address'] = data['address'].astype('category')\n",
    "b = sns.countplot(x='address', data=data)\n",
    "b.set_title('Urban and Rural Students', fontsize=30)\n",
    "b.set_xlabel('Address', fontsize=20)\n",
    "b.set_ylabel('Count', fontsize=20)\n",
    "plt.show()\n"
   ]
  },
  {
   "cell_type": "code",
   "execution_count": 14,
   "id": "ec986f79",
   "metadata": {},
   "outputs": [],
   "source": [
    "#Getting average of their marks\n",
    "data['GradeAvg']=data['G1']+data['G2']+data['G3']/3"
   ]
  },
  {
   "cell_type": "code",
   "execution_count": 15,
   "id": "13461fe8",
   "metadata": {},
   "outputs": [],
   "source": [
    "#Creating find_grade function to assign with the rules of grades\n",
    "def find_grade(data):\n",
    "    grades=[]\n",
    "    for row in data['GradeAvg']:\n",
    "        if row>=(0.9*data['GradeAvg'].max()):\n",
    "            grades.append('1')\n",
    "        elif row>=(0.7*data['GradeAvg'].max()):\n",
    "            grades.append('2')\n",
    "        elif row<(0.7*data['GradeAvg'].max()): \n",
    "            grades.append('3')\n",
    "    data['GradeAvg']=grades\n",
    "    return data"
   ]
  },
  {
   "cell_type": "code",
   "execution_count": 16,
   "id": "13db8cc4",
   "metadata": {},
   "outputs": [],
   "source": [
    "data_dum=find_grade(data)"
   ]
  },
  {
   "cell_type": "code",
   "execution_count": 17,
   "id": "817e0a7b",
   "metadata": {},
   "outputs": [],
   "source": [
    "#Dropping school and age \n",
    "data_dum.drop(['school','age'],axis=1,inplace=True)"
   ]
  },
  {
   "cell_type": "code",
   "execution_count": 18,
   "id": "62e71295",
   "metadata": {},
   "outputs": [
    {
     "data": {
      "text/html": [
       "<div>\n",
       "<style scoped>\n",
       "    .dataframe tbody tr th:only-of-type {\n",
       "        vertical-align: middle;\n",
       "    }\n",
       "\n",
       "    .dataframe tbody tr th {\n",
       "        vertical-align: top;\n",
       "    }\n",
       "\n",
       "    .dataframe thead th {\n",
       "        text-align: right;\n",
       "    }\n",
       "</style>\n",
       "<table border=\"1\" class=\"dataframe\">\n",
       "  <thead>\n",
       "    <tr style=\"text-align: right;\">\n",
       "      <th></th>\n",
       "      <th>sex</th>\n",
       "      <th>address</th>\n",
       "      <th>famsize</th>\n",
       "      <th>Pstatus</th>\n",
       "      <th>Medu</th>\n",
       "      <th>Fedu</th>\n",
       "      <th>Mjob</th>\n",
       "      <th>Fjob</th>\n",
       "      <th>reason</th>\n",
       "      <th>guardian</th>\n",
       "      <th>...</th>\n",
       "      <th>freetime</th>\n",
       "      <th>goout</th>\n",
       "      <th>Dalc</th>\n",
       "      <th>Walc</th>\n",
       "      <th>health</th>\n",
       "      <th>absences</th>\n",
       "      <th>G1</th>\n",
       "      <th>G2</th>\n",
       "      <th>G3</th>\n",
       "      <th>GradeAvg</th>\n",
       "    </tr>\n",
       "  </thead>\n",
       "  <tbody>\n",
       "    <tr>\n",
       "      <th>0</th>\n",
       "      <td>F</td>\n",
       "      <td>U</td>\n",
       "      <td>GT3</td>\n",
       "      <td>A</td>\n",
       "      <td>4</td>\n",
       "      <td>4</td>\n",
       "      <td>at_home</td>\n",
       "      <td>teacher</td>\n",
       "      <td>course</td>\n",
       "      <td>mother</td>\n",
       "      <td>...</td>\n",
       "      <td>3</td>\n",
       "      <td>4</td>\n",
       "      <td>1</td>\n",
       "      <td>1</td>\n",
       "      <td>3</td>\n",
       "      <td>6</td>\n",
       "      <td>5</td>\n",
       "      <td>6</td>\n",
       "      <td>6</td>\n",
       "      <td>3</td>\n",
       "    </tr>\n",
       "    <tr>\n",
       "      <th>1</th>\n",
       "      <td>F</td>\n",
       "      <td>U</td>\n",
       "      <td>GT3</td>\n",
       "      <td>T</td>\n",
       "      <td>1</td>\n",
       "      <td>1</td>\n",
       "      <td>at_home</td>\n",
       "      <td>other</td>\n",
       "      <td>course</td>\n",
       "      <td>father</td>\n",
       "      <td>...</td>\n",
       "      <td>3</td>\n",
       "      <td>3</td>\n",
       "      <td>1</td>\n",
       "      <td>1</td>\n",
       "      <td>3</td>\n",
       "      <td>4</td>\n",
       "      <td>5</td>\n",
       "      <td>5</td>\n",
       "      <td>6</td>\n",
       "      <td>3</td>\n",
       "    </tr>\n",
       "    <tr>\n",
       "      <th>2</th>\n",
       "      <td>F</td>\n",
       "      <td>U</td>\n",
       "      <td>LE3</td>\n",
       "      <td>T</td>\n",
       "      <td>1</td>\n",
       "      <td>1</td>\n",
       "      <td>at_home</td>\n",
       "      <td>other</td>\n",
       "      <td>other</td>\n",
       "      <td>mother</td>\n",
       "      <td>...</td>\n",
       "      <td>3</td>\n",
       "      <td>2</td>\n",
       "      <td>2</td>\n",
       "      <td>3</td>\n",
       "      <td>3</td>\n",
       "      <td>10</td>\n",
       "      <td>7</td>\n",
       "      <td>8</td>\n",
       "      <td>10</td>\n",
       "      <td>3</td>\n",
       "    </tr>\n",
       "    <tr>\n",
       "      <th>3</th>\n",
       "      <td>F</td>\n",
       "      <td>U</td>\n",
       "      <td>GT3</td>\n",
       "      <td>T</td>\n",
       "      <td>4</td>\n",
       "      <td>2</td>\n",
       "      <td>health</td>\n",
       "      <td>services</td>\n",
       "      <td>home</td>\n",
       "      <td>mother</td>\n",
       "      <td>...</td>\n",
       "      <td>2</td>\n",
       "      <td>2</td>\n",
       "      <td>1</td>\n",
       "      <td>1</td>\n",
       "      <td>5</td>\n",
       "      <td>2</td>\n",
       "      <td>15</td>\n",
       "      <td>14</td>\n",
       "      <td>15</td>\n",
       "      <td>2</td>\n",
       "    </tr>\n",
       "    <tr>\n",
       "      <th>4</th>\n",
       "      <td>F</td>\n",
       "      <td>U</td>\n",
       "      <td>GT3</td>\n",
       "      <td>T</td>\n",
       "      <td>3</td>\n",
       "      <td>3</td>\n",
       "      <td>other</td>\n",
       "      <td>other</td>\n",
       "      <td>home</td>\n",
       "      <td>father</td>\n",
       "      <td>...</td>\n",
       "      <td>3</td>\n",
       "      <td>2</td>\n",
       "      <td>1</td>\n",
       "      <td>2</td>\n",
       "      <td>5</td>\n",
       "      <td>4</td>\n",
       "      <td>6</td>\n",
       "      <td>10</td>\n",
       "      <td>10</td>\n",
       "      <td>3</td>\n",
       "    </tr>\n",
       "  </tbody>\n",
       "</table>\n",
       "<p>5 rows × 32 columns</p>\n",
       "</div>"
      ],
      "text/plain": [
       "  sex address famsize Pstatus  Medu  Fedu     Mjob      Fjob  reason guardian  \\\n",
       "0   F       U     GT3       A     4     4  at_home   teacher  course   mother   \n",
       "1   F       U     GT3       T     1     1  at_home     other  course   father   \n",
       "2   F       U     LE3       T     1     1  at_home     other   other   mother   \n",
       "3   F       U     GT3       T     4     2   health  services    home   mother   \n",
       "4   F       U     GT3       T     3     3    other     other    home   father   \n",
       "\n",
       "   ...  freetime  goout  Dalc Walc health absences  G1  G2  G3 GradeAvg  \n",
       "0  ...         3      4     1    1      3        6   5   6   6        3  \n",
       "1  ...         3      3     1    1      3        4   5   5   6        3  \n",
       "2  ...         3      2     2    3      3       10   7   8  10        3  \n",
       "3  ...         2      2     1    1      5        2  15  14  15        2  \n",
       "4  ...         3      2     1    2      5        4   6  10  10        3  \n",
       "\n",
       "[5 rows x 32 columns]"
      ]
     },
     "execution_count": 18,
     "metadata": {},
     "output_type": "execute_result"
    }
   ],
   "source": [
    "data_dum.head()"
   ]
  },
  {
   "cell_type": "code",
   "execution_count": 19,
   "id": "246853a1",
   "metadata": {},
   "outputs": [
    {
     "data": {
      "text/plain": [
       "Index(['sex', 'address', 'famsize', 'Pstatus', 'Medu', 'Fedu', 'Mjob', 'Fjob',\n",
       "       'reason', 'guardian', 'traveltime', 'studytime', 'failures',\n",
       "       'schoolsup', 'famsup', 'paid', 'activities', 'nursery', 'higher',\n",
       "       'internet', 'romantic', 'famrel', 'freetime', 'goout', 'Dalc', 'Walc',\n",
       "       'health', 'absences', 'G1', 'G2', 'G3', 'GradeAvg'],\n",
       "      dtype='object')"
      ]
     },
     "execution_count": 19,
     "metadata": {},
     "output_type": "execute_result"
    }
   ],
   "source": [
    "#Understanding the columns present\n",
    "data_dum.columns"
   ]
  },
  {
   "cell_type": "code",
   "execution_count": 20,
   "id": "6c6d3725",
   "metadata": {},
   "outputs": [],
   "source": [
    "#Changing the data into catogorical ones\n",
    "\n",
    "#yes/no values:\n",
    "d={'yes':1,'no':0}\n",
    "data_dum['schoolsup']=data_dum['schoolsup'].map(d)\n",
    "data_dum['famsup']=data_dum['famsup'].map(d)\n",
    "data_dum['paid']=data_dum['paid'].map(d)\n",
    "data_dum['activites']=data_dum['activities'].map(d)\n",
    "data_dum['nursery']=data_dum['nursery'].map(d)\n",
    "data_dum['higher']=data_dum['higher'].map(d)\n",
    "data_dum['internet']=data_dum['internet'].map(d)\n",
    "data_dum['romantic']=data_dum['romantic'].map(d)\n",
    "\n",
    "#Gender:\n",
    "d={'F':1,'M':0}\n",
    "data_dum['sex']=data_dum['sex'].map(d)\n",
    "\n",
    "#Jobs:\n",
    "d={'teacher':0,'health':1, 'services':2, 'at_home':3, 'other':4}\n",
    "data_dum['Mjob']=data_dum['Mjob'].map(d)\n",
    "data_dum['Fjob']=data_dum['Fjob'].map(d)\n",
    "\n",
    "#Reasons:\n",
    "d={'home':0,'reputation':1, 'course':2, 'other':3}\n",
    "data_dum['reason']=data_dum['reason'].map(d)\n",
    "\n",
    "#Guardian:\n",
    "d={'mother':0,'father':1, 'other':2}\n",
    "data_dum['guardian']=data_dum['guardian'].map(d)\n",
    "\n",
    "#Size of family\n",
    "d={'GT3':0,'LE3':1}\n",
    "data_dum['famsize']=data_dum['famsize'].map(d)\n",
    "\n",
    "#Address\n",
    "d={'U':0,'R':1}\n",
    "data_dum['address']=data_dum['address'].map(d)\n",
    "\n",
    "#Family status\n",
    "d={'T':0,'A':1}\n",
    "data_dum['Pstatus']=data_dum['Pstatus'].map(d)"
   ]
  },
  {
   "cell_type": "code",
   "execution_count": 21,
   "id": "37c560cd",
   "metadata": {},
   "outputs": [],
   "source": [
    "for column in data_dum.columns:\n",
    "    if data_dum[column].dtype.name == 'category':\n",
    "        blank_cells = data_dum[column].isnull() | (data_dum[column] == '')\n",
    "        mode_value = data_dum[column].mode()[0]\n",
    "        data_dum.loc[blank_cells, column] = mode_value"
   ]
  },
  {
   "cell_type": "code",
   "execution_count": 22,
   "id": "436e8697",
   "metadata": {},
   "outputs": [],
   "source": [
    "data_dum = data_dum.dropna()"
   ]
  },
  {
   "cell_type": "code",
   "execution_count": 23,
   "id": "947ccee2",
   "metadata": {},
   "outputs": [],
   "source": [
    "#Splitting the train and test values\n",
    "from sklearn.model_selection import train_test_split\n",
    "x=data_dum.drop(\"G3\",axis=1)\n",
    "y=data_dum['G3']"
   ]
  },
  {
   "cell_type": "code",
   "execution_count": 24,
   "id": "2ec6a96f",
   "metadata": {},
   "outputs": [
    {
     "data": {
      "text/plain": [
       "0       6\n",
       "1       6\n",
       "2      10\n",
       "3      15\n",
       "4      10\n",
       "       ..\n",
       "390     9\n",
       "391    16\n",
       "392     7\n",
       "393    10\n",
       "394     9\n",
       "Name: G3, Length: 395, dtype: int64"
      ]
     },
     "execution_count": 24,
     "metadata": {},
     "output_type": "execute_result"
    }
   ],
   "source": [
    "data_dum['G3']"
   ]
  },
  {
   "cell_type": "code",
   "execution_count": 25,
   "id": "df308c49",
   "metadata": {},
   "outputs": [],
   "source": [
    "X_train, X_test, Y_train, Y_test=train_test_split(x,y,test_size=0.25,random_state=42)"
   ]
  },
  {
   "cell_type": "code",
   "execution_count": 26,
   "id": "b76003b5",
   "metadata": {},
   "outputs": [],
   "source": [
    "from sklearn.linear_model import LinearRegression"
   ]
  },
  {
   "cell_type": "code",
   "execution_count": 34,
   "id": "5182102a",
   "metadata": {},
   "outputs": [
    {
     "data": {
      "text/plain": [
       "Index(['address'], dtype='object')"
      ]
     },
     "execution_count": 34,
     "metadata": {},
     "output_type": "execute_result"
    }
   ],
   "source": [
    "non_numeric_columns = X_train.select_dtypes(exclude=[np.number]).columns\n",
    "non_numeric_columns"
   ]
  },
  {
   "cell_type": "code",
   "execution_count": 28,
   "id": "5b569e88",
   "metadata": {},
   "outputs": [],
   "source": [
    "#Famsize\n",
    "column_with_U = 'famsize'\n",
    "mean_value = np.mean(pd.to_numeric(X_train[column_with_U], errors='coerce'))\n",
    "X_train[column_with_U] = pd.to_numeric(X_train[column_with_U], errors='coerce').fillna(mean_value)\n",
    "\n",
    "#Pstatus\n",
    "column_with_V = 'Pstatus'\n",
    "mean_value = np.mean(pd.to_numeric(X_train[column_with_V], errors='coerce'))\n",
    "X_train[column_with_V] = pd.to_numeric(X_train[column_with_V], errors='coerce').fillna(mean_value)\n",
    "\n",
    "#Activities\n",
    "column_with_W = 'activities'\n",
    "mean_value = np.mean(pd.to_numeric(X_train[column_with_W], errors='coerce'))\n",
    "X_train[column_with_W] = pd.to_numeric(X_train[column_with_W], errors='coerce').fillna(mean_value)\n",
    "\n",
    "#GradeAvg\n",
    "column_with_X = 'GradeAvg'\n",
    "mean_value = np.mean(pd.to_numeric(X_train[column_with_X], errors='coerce'))\n",
    "X_train[column_with_X] = pd.to_numeric(X_train[column_with_X], errors='coerce').fillna(mean_value)"
   ]
  },
  {
   "cell_type": "code",
   "execution_count": 42,
   "id": "be83e1f5",
   "metadata": {},
   "outputs": [],
   "source": [
    "# Handling missing values with mean imputation\n",
    "from sklearn.impute import SimpleImputer\n",
    "from sklearn.linear_model import LinearRegression\n",
    "imputer = SimpleImputer(strategy='mean')\n",
    "X_train_imputed = imputer.fit_transform(X_train)\n",
    "X_test_imputed = imputer.transform(X_test)\n"
   ]
  },
  {
   "cell_type": "code",
   "execution_count": 32,
   "id": "e21883c3",
   "metadata": {},
   "outputs": [
    {
     "data": {
      "text/html": [
       "<style>#sk-container-id-1 {color: black;background-color: white;}#sk-container-id-1 pre{padding: 0;}#sk-container-id-1 div.sk-toggleable {background-color: white;}#sk-container-id-1 label.sk-toggleable__label {cursor: pointer;display: block;width: 100%;margin-bottom: 0;padding: 0.3em;box-sizing: border-box;text-align: center;}#sk-container-id-1 label.sk-toggleable__label-arrow:before {content: \"▸\";float: left;margin-right: 0.25em;color: #696969;}#sk-container-id-1 label.sk-toggleable__label-arrow:hover:before {color: black;}#sk-container-id-1 div.sk-estimator:hover label.sk-toggleable__label-arrow:before {color: black;}#sk-container-id-1 div.sk-toggleable__content {max-height: 0;max-width: 0;overflow: hidden;text-align: left;background-color: #f0f8ff;}#sk-container-id-1 div.sk-toggleable__content pre {margin: 0.2em;color: black;border-radius: 0.25em;background-color: #f0f8ff;}#sk-container-id-1 input.sk-toggleable__control:checked~div.sk-toggleable__content {max-height: 200px;max-width: 100%;overflow: auto;}#sk-container-id-1 input.sk-toggleable__control:checked~label.sk-toggleable__label-arrow:before {content: \"▾\";}#sk-container-id-1 div.sk-estimator input.sk-toggleable__control:checked~label.sk-toggleable__label {background-color: #d4ebff;}#sk-container-id-1 div.sk-label input.sk-toggleable__control:checked~label.sk-toggleable__label {background-color: #d4ebff;}#sk-container-id-1 input.sk-hidden--visually {border: 0;clip: rect(1px 1px 1px 1px);clip: rect(1px, 1px, 1px, 1px);height: 1px;margin: -1px;overflow: hidden;padding: 0;position: absolute;width: 1px;}#sk-container-id-1 div.sk-estimator {font-family: monospace;background-color: #f0f8ff;border: 1px dotted black;border-radius: 0.25em;box-sizing: border-box;margin-bottom: 0.5em;}#sk-container-id-1 div.sk-estimator:hover {background-color: #d4ebff;}#sk-container-id-1 div.sk-parallel-item::after {content: \"\";width: 100%;border-bottom: 1px solid gray;flex-grow: 1;}#sk-container-id-1 div.sk-label:hover label.sk-toggleable__label {background-color: #d4ebff;}#sk-container-id-1 div.sk-serial::before {content: \"\";position: absolute;border-left: 1px solid gray;box-sizing: border-box;top: 0;bottom: 0;left: 50%;z-index: 0;}#sk-container-id-1 div.sk-serial {display: flex;flex-direction: column;align-items: center;background-color: white;padding-right: 0.2em;padding-left: 0.2em;position: relative;}#sk-container-id-1 div.sk-item {position: relative;z-index: 1;}#sk-container-id-1 div.sk-parallel {display: flex;align-items: stretch;justify-content: center;background-color: white;position: relative;}#sk-container-id-1 div.sk-item::before, #sk-container-id-1 div.sk-parallel-item::before {content: \"\";position: absolute;border-left: 1px solid gray;box-sizing: border-box;top: 0;bottom: 0;left: 50%;z-index: -1;}#sk-container-id-1 div.sk-parallel-item {display: flex;flex-direction: column;z-index: 1;position: relative;background-color: white;}#sk-container-id-1 div.sk-parallel-item:first-child::after {align-self: flex-end;width: 50%;}#sk-container-id-1 div.sk-parallel-item:last-child::after {align-self: flex-start;width: 50%;}#sk-container-id-1 div.sk-parallel-item:only-child::after {width: 0;}#sk-container-id-1 div.sk-dashed-wrapped {border: 1px dashed gray;margin: 0 0.4em 0.5em 0.4em;box-sizing: border-box;padding-bottom: 0.4em;background-color: white;}#sk-container-id-1 div.sk-label label {font-family: monospace;font-weight: bold;display: inline-block;line-height: 1.2em;}#sk-container-id-1 div.sk-label-container {text-align: center;}#sk-container-id-1 div.sk-container {/* jupyter's `normalize.less` sets `[hidden] { display: none; }` but bootstrap.min.css set `[hidden] { display: none !important; }` so we also need the `!important` here to be able to override the default hidden behavior on the sphinx rendered scikit-learn.org. See: https://github.com/scikit-learn/scikit-learn/issues/21755 */display: inline-block !important;position: relative;}#sk-container-id-1 div.sk-text-repr-fallback {display: none;}</style><div id=\"sk-container-id-1\" class=\"sk-top-container\"><div class=\"sk-text-repr-fallback\"><pre>LinearRegression()</pre><b>In a Jupyter environment, please rerun this cell to show the HTML representation or trust the notebook. <br />On GitHub, the HTML representation is unable to render, please try loading this page with nbviewer.org.</b></div><div class=\"sk-container\" hidden><div class=\"sk-item\"><div class=\"sk-estimator sk-toggleable\"><input class=\"sk-toggleable__control sk-hidden--visually\" id=\"sk-estimator-id-1\" type=\"checkbox\" checked><label for=\"sk-estimator-id-1\" class=\"sk-toggleable__label sk-toggleable__label-arrow\">LinearRegression</label><div class=\"sk-toggleable__content\"><pre>LinearRegression()</pre></div></div></div></div></div>"
      ],
      "text/plain": [
       "LinearRegression()"
      ]
     },
     "execution_count": 32,
     "metadata": {},
     "output_type": "execute_result"
    }
   ],
   "source": [
    "# Creating and fitting the Linear Regression model\n",
    "L = LinearRegression()\n"
   ]
  },
  {
   "cell_type": "code",
   "execution_count": 43,
   "id": "c525a07e",
   "metadata": {},
   "outputs": [],
   "source": [
    "# Predicting the target variable\n",
    "y_predict = L.predict(X_test_imputed)"
   ]
  },
  {
   "cell_type": "code",
   "execution_count": 44,
   "id": "068e36c0",
   "metadata": {},
   "outputs": [
    {
     "name": "stdout",
     "output_type": "stream",
     "text": [
      "[ 6.31849728 11.60493158  3.7017796   8.99758784  9.0039317  11.96020991\n",
      " 18.5178168   7.21247974  7.66965428 12.05101144 14.52668297  5.43675438\n",
      " 13.59806011 12.10347248 14.67752129  8.78419072  6.00606208 11.26733779\n",
      " 14.01893259  8.32053384 14.10084003 16.35416894 14.07050228  6.23992084\n",
      "  8.11921768 20.2034386  10.54007627  9.22283177 16.74502164 10.7974377\n",
      "  9.61775642  7.08975201 15.1573017  12.8753415   5.4151637   4.10167557\n",
      " -2.35534997 14.59042155 11.91871328  7.23322416  5.65418642 10.08860332\n",
      " 14.64129516  7.03333385 17.05206134  9.47618326 11.69403711 13.6541768\n",
      " 10.51947703 16.00491607 13.89106986 14.5993701  10.43958468  7.61492432\n",
      "  3.4960092  12.54266818 10.43150174  6.64152055 15.08850247 16.10568509\n",
      " 12.55315728  7.77770019  8.81117266  3.76088498  3.51103859 16.49509464\n",
      "  8.51640077  8.93166307  9.26100791 15.88000251  8.33024353  8.27673561\n",
      " 14.04669846 20.26157434 10.70335143  5.82430384  8.32681677 12.85874412\n",
      "  4.88190318 11.98359954 13.86162996  4.70676792  8.21585234  8.37653328\n",
      "  7.35210416 13.46651971  4.8617955  11.72491647 14.88127434 -0.25005918\n",
      " 14.80422998  8.32437814 10.21548061 10.01705988  5.17890884  6.26417373\n",
      "  8.14770861 19.15839357 18.88140079]\n"
     ]
    }
   ],
   "source": [
    "# Printing the predicted values\n",
    "print(y_predict)"
   ]
  },
  {
   "cell_type": "code",
   "execution_count": 45,
   "id": "55698cbe",
   "metadata": {},
   "outputs": [
    {
     "name": "stdout",
     "output_type": "stream",
     "text": [
      "0.7790193149496726\n"
     ]
    }
   ],
   "source": [
    "#Finding the accuracy of our model\n",
    "print(L.score(X_test_imputed,Y_test))"
   ]
  },
  {
   "cell_type": "code",
   "execution_count": null,
   "id": "a74ce575",
   "metadata": {},
   "outputs": [],
   "source": []
  }
 ],
 "metadata": {
  "kernelspec": {
   "display_name": "Python 3 (ipykernel)",
   "language": "python",
   "name": "python3"
  },
  "language_info": {
   "codemirror_mode": {
    "name": "ipython",
    "version": 3
   },
   "file_extension": ".py",
   "mimetype": "text/x-python",
   "name": "python",
   "nbconvert_exporter": "python",
   "pygments_lexer": "ipython3",
   "version": "3.10.9"
  }
 },
 "nbformat": 4,
 "nbformat_minor": 5
}
